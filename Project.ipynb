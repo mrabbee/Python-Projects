{
 "cells": [
  {
   "cell_type": "code",
   "execution_count": null,
   "id": "80519e54",
   "metadata": {},
   "outputs": [],
   "source": [
    "from scipy.spatial import distance #computes distance\n",
    "from imutils import face_utils #imutils is used for basic image processing\n",
    "import numpy as np #used for working with arrays\n",
    "import pygame #For playing sound\n",
    "import time # used for time related functions\n",
    "import dlib # used for face detection\n",
    "import cv2 as cv # used to load image "
   ]
  },
  {
   "cell_type": "code",
   "execution_count": null,
   "id": "ca05115a",
   "metadata": {},
   "outputs": [],
   "source": [
    "#Initialize Pygame and load music\n",
    "pygame.mixer.init()\n",
    "pygame.mixer.music.load('C:\\\\Users\\\\DELL\\\\Desktop\\\\Driver-Drowsiness-Detector-master\\\\audio\\\\alert.wav')"
   ]
  },
  {
   "cell_type": "code",
   "execution_count": null,
   "id": "b3e88e8f",
   "metadata": {},
   "outputs": [],
   "source": [
    "#Minimum threshold of eye aspect ratio below which alarm is triggerd\n",
    "EYE_ASPECT_RATIO_THRESHOLD = 0.3"
   ]
  },
  {
   "cell_type": "code",
   "execution_count": null,
   "id": "2c96870b",
   "metadata": {},
   "outputs": [],
   "source": [
    "#Minimum consecutive frames for which eye ratio is below threshold for alarm to be triggered\n",
    "EYE_ASPECT_RATIO_CONSEC_FRAMES = 50"
   ]
  },
  {
   "cell_type": "code",
   "execution_count": null,
   "id": "99ab1b20",
   "metadata": {},
   "outputs": [],
   "source": [
    "#COunts no. of consecutuve frames below threshold value\n",
    "COUNTER = 0"
   ]
  },
  {
   "cell_type": "code",
   "execution_count": null,
   "id": "ec2e3bd0",
   "metadata": {},
   "outputs": [],
   "source": [
    "#Load face cascade which will be used to draw a rectangle around detected faces.\n",
    "face_cascade = cv.CascadeClassifier(\"C:\\\\Users\\\\DELL\\\\Desktop\\\\Driver-Drowsiness-Detector-master\\\\haarcascades\\\\haarcascade_frontalface_default.xml\")\n"
   ]
  },
  {
   "cell_type": "code",
   "execution_count": null,
   "id": "309c209b",
   "metadata": {},
   "outputs": [],
   "source": [
    "#This function calculates and return eye aspect ratio\n",
    "def eye_aspect_ratio(eye):\n",
    "    A = distance.euclidean(eye[1], eye[5])\n",
    "    B = distance.euclidean(eye[2], eye[4])\n",
    "    C = distance.euclidean(eye[0], eye[3])\n",
    "\n",
    "    ear = (A+B) / (2*C)\n",
    "    return ear"
   ]
  },
  {
   "cell_type": "code",
   "execution_count": null,
   "id": "9eccd731",
   "metadata": {},
   "outputs": [],
   "source": [
    "#Load face detector and predictor, uses dlib shape predictor file\n",
    "detector = dlib.get_frontal_face_detector()\n",
    "predictor = dlib.shape_predictor('C:\\\\Users\\\\DELL\\\\Desktop\\\\Driver-Drowsiness-Detector-master\\\\shape_predictor_68_face_landmarks.dat')"
   ]
  },
  {
   "cell_type": "code",
   "execution_count": null,
   "id": "874f4080",
   "metadata": {},
   "outputs": [],
   "source": [
    "#Extract indexes of facial landmarks for the left and right eye\n",
    "(lStart, lEnd) = face_utils.FACIAL_LANDMARKS_IDXS['left_eye']\n",
    "(rStart, rEnd) = face_utils.FACIAL_LANDMARKS_IDXS['right_eye']\n",
    "\n"
   ]
  },
  {
   "cell_type": "code",
   "execution_count": null,
   "id": "9d753d30",
   "metadata": {},
   "outputs": [],
   "source": [
    "#Start webcam video capture\n",
    "video_capture = cv.VideoCapture(0)"
   ]
  },
  {
   "cell_type": "code",
   "execution_count": null,
   "id": "d1a6948e",
   "metadata": {},
   "outputs": [],
   "source": [
    "#Give some time for camera to initialize(not required)\n",
    "time.sleep(2)"
   ]
  },
  {
   "cell_type": "code",
   "execution_count": null,
   "id": "0776fbb9",
   "metadata": {},
   "outputs": [],
   "source": [
    "while(True):\n",
    "    #Read each frame and flip it, and convert to grayscale\n",
    "    ret, frame = video_capture.read()\n",
    "    frame = cv.flip(frame,1)\n",
    "    gray = cv.cvtColor(frame, cv.COLOR_BGR2GRAY)\n",
    "\n",
    "    #Detect facial points through detector function\n",
    "    faces = detector(gray, 0)\n",
    "\n",
    "    #Detect faces through haarcascade_frontalface_default.xml\n",
    "    face_rectangle = face_cascade.detectMultiScale(gray, 1.3, 5)\n",
    "\n",
    "    #Draw rectangle around each face detected\n",
    "    for (x,y,w,h) in face_rectangle:\n",
    "        cv.rectangle(frame,(x,y),(x+w,y+h),(255,0,0),2)\n",
    "\n",
    "    #Detect facial points\n",
    "    for face in faces:\n",
    "\n",
    "        shape = predictor(gray, face)\n",
    "        shape = face_utils.shape_to_np(shape)\n",
    "\n",
    "        #Get array of coordinates of leftEye and rightEye\n",
    "        leftEye = shape[lStart:lEnd]\n",
    "        rightEye = shape[rStart:rEnd]\n",
    "\n",
    "        #Calculate aspect ratio of both eyes\n",
    "        leftEyeAspectRatio = eye_aspect_ratio(leftEye)\n",
    "        rightEyeAspectRatio = eye_aspect_ratio(rightEye)\n",
    "\n",
    "        eyeAspectRatio = (leftEyeAspectRatio + rightEyeAspectRatio) / 2\n",
    "\n",
    "        #Use hull to remove convex contour discrepencies and draw eye shape around eyes\n",
    "        leftEyeHull = cv.convexHull(leftEye)\n",
    "        rightEyeHull = cv.convexHull(rightEye)\n",
    "        cv.drawContours(frame, [leftEyeHull], -1, (0, 255, 0), 1)\n",
    "        cv.drawContours(frame, [rightEyeHull], -1, (0, 255, 0), 1)\n",
    "\n",
    "        #Detect if eye aspect ratio is less than threshold\n",
    "        if(eyeAspectRatio < EYE_ASPECT_RATIO_THRESHOLD):\n",
    "            COUNTER += 1\n",
    "            #If no. of frames is greater than threshold frames,\n",
    "            if COUNTER >= EYE_ASPECT_RATIO_CONSEC_FRAMES:\n",
    "                pygame.mixer.music.play(-1)\n",
    "                cv.putText(frame, \"You are Drowsy\", (150,200), cv.FONT_HERSHEY_SIMPLEX, 1.5, (0,0,255), 2)\n",
    "        else:\n",
    "            pygame.mixer.music.stop()\n",
    "            COUNTER = 0\n",
    "\n",
    "    #Show video feed\n",
    "    cv.imshow('Video', frame)\n",
    "    if(cv.waitKey(1) & 0xFF == ord('q')):\n",
    "        break"
   ]
  },
  {
   "cell_type": "code",
   "execution_count": null,
   "id": "566adf6b",
   "metadata": {},
   "outputs": [],
   "source": [
    "#Finally when video capture is over, release the video capture and destroyAllWindows\n",
    "video_capture.release()\n",
    "cv.destroyAllWindows()"
   ]
  },
  {
   "cell_type": "code",
   "execution_count": null,
   "id": "e1961f21",
   "metadata": {},
   "outputs": [],
   "source": []
  }
 ],
 "metadata": {
  "kernelspec": {
   "display_name": "Python 3 (ipykernel)",
   "language": "python",
   "name": "python3"
  },
  "language_info": {
   "codemirror_mode": {
    "name": "ipython",
    "version": 3
   },
   "file_extension": ".py",
   "mimetype": "text/x-python",
   "name": "python",
   "nbconvert_exporter": "python",
   "pygments_lexer": "ipython3",
   "version": "3.9.13"
  }
 },
 "nbformat": 4,
 "nbformat_minor": 5
}
