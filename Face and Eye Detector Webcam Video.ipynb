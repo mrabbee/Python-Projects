{
 "cells": [
  {
   "cell_type": "code",
   "execution_count": null,
   "id": "f4e58d76",
   "metadata": {},
   "outputs": [],
   "source": [
    "#Import necessary libraries\n",
    "import cv2 as cv #used to load image\n",
    "import numpy as np #used for working with arrays"
   ]
  },
  {
   "cell_type": "code",
   "execution_count": null,
   "id": "a79ec7bb",
   "metadata": {},
   "outputs": [],
   "source": [
    "#Load face cascade and hair cascade from haarcascades folder\n",
    "face_cascade = cv.CascadeClassifier(\"C:\\\\Users\\\\DELL\\\\Desktop\\\\Driver-Drowsiness-Detector-master\\\\haarcascades\\\\haarcascade_frontalface_default.xml\")\n",
    "eye_cascade = cv.CascadeClassifier(\"C:\\\\Users\\\\DELL\\\\Desktop\\\\Driver-Drowsiness-Detector-master\\\\haarcascades\\\\haarcascade_eye.xml\")"
   ]
  },
  {
   "cell_type": "code",
   "execution_count": null,
   "id": "14df19f4",
   "metadata": {},
   "outputs": [],
   "source": [
    "#Capture video from webcam\n",
    "video_capture = cv.VideoCapture(0)"
   ]
  },
  {
   "cell_type": "code",
   "execution_count": null,
   "id": "fbd8dcbc",
   "metadata": {},
   "outputs": [],
   "source": [
    "#Read all frames from webcam\n",
    "while True:\n",
    "    ret, frame = video_capture.read()\n",
    "    frame = cv.flip(frame,1) #Flip so that video feed is not flipped, and appears mirror like.\n",
    "    gray = cv.cvtColor(frame, cv.COLOR_BGR2GRAY)\n",
    "\n",
    "    faces = face_cascade.detectMultiScale(gray, 1.3, 5)\n",
    "\n",
    "    for (x,y,w,h) in faces:\n",
    "        cv.rectangle(frame,(x,y),(x+w,y+h),(255,0,0),2)\n",
    "        roi_gray = gray[y:y+h, x:x+w]\n",
    "        roi_color = frame[y:y+h, x:x+w]\n",
    "\n",
    "        eyes = eye_cascade.detectMultiScale(roi_gray)\n",
    "\n",
    "        for (ex,ey,ew,eh) in eyes:\n",
    "            cv.rectangle(roi_color,(ex,ey),(ex+ew,ey+eh),(0,255,0),2)\n",
    "\n",
    "    cv.imshow('Video', frame)\n",
    "\n",
    "    if(cv.waitKey(1) & 0xFF == ord('q')):\n",
    "        break"
   ]
  },
  {
   "cell_type": "code",
   "execution_count": null,
   "id": "e55b8dc6",
   "metadata": {},
   "outputs": [],
   "source": [
    "#Finally when video capture is over, release the video capture and destroyAllWindows\n",
    "video_capture.release()"
   ]
  },
  {
   "cell_type": "code",
   "execution_count": null,
   "id": "26d9b850",
   "metadata": {},
   "outputs": [],
   "source": [
    "cv.waitKey(10)\n",
    "cv.destroyAllWindows()"
   ]
  },
  {
   "cell_type": "code",
   "execution_count": null,
   "id": "0f9cafa2",
   "metadata": {},
   "outputs": [],
   "source": []
  }
 ],
 "metadata": {
  "kernelspec": {
   "display_name": "Python 3 (ipykernel)",
   "language": "python",
   "name": "python3"
  },
  "language_info": {
   "codemirror_mode": {
    "name": "ipython",
    "version": 3
   },
   "file_extension": ".py",
   "mimetype": "text/x-python",
   "name": "python",
   "nbconvert_exporter": "python",
   "pygments_lexer": "ipython3",
   "version": "3.9.13"
  }
 },
 "nbformat": 4,
 "nbformat_minor": 5
}
