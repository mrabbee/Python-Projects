{
 "cells": [
  {
   "cell_type": "code",
   "execution_count": null,
   "id": "52a3a1af",
   "metadata": {},
   "outputs": [
    {
     "ename": "ModuleNotFoundError",
     "evalue": "No module named 'cv2'",
     "output_type": "error",
     "traceback": [
      "\u001b[1;31m---------------------------------------------------------------------------\u001b[0m",
      "\u001b[1;31mModuleNotFoundError\u001b[0m                       Traceback (most recent call last)",
      "\u001b[1;32m~\\AppData\\Local\\Temp\\ipykernel_13544\\2229154231.py\u001b[0m in \u001b[0;36m<module>\u001b[1;34m\u001b[0m\n\u001b[0;32m      1\u001b[0m \u001b[1;31m#Import necessary libraries\u001b[0m\u001b[1;33m\u001b[0m\u001b[1;33m\u001b[0m\u001b[0m\n\u001b[1;32m----> 2\u001b[1;33m \u001b[1;32mimport\u001b[0m \u001b[0mcv2\u001b[0m \u001b[1;32mas\u001b[0m \u001b[0mcv\u001b[0m \u001b[1;31m# used for loading image\u001b[0m\u001b[1;33m\u001b[0m\u001b[1;33m\u001b[0m\u001b[0m\n\u001b[0m\u001b[0;32m      3\u001b[0m \u001b[1;32mimport\u001b[0m \u001b[0mnumpy\u001b[0m \u001b[1;32mas\u001b[0m \u001b[0mnp\u001b[0m \u001b[1;31m# used for working with arrays\u001b[0m\u001b[1;33m\u001b[0m\u001b[1;33m\u001b[0m\u001b[0m\n",
      "\u001b[1;31mModuleNotFoundError\u001b[0m: No module named 'cv2'"
     ]
    }
   ],
   "source": [
    "#Import necessary libraries\n",
    "import cv2 as cv # used for loading image\n",
    "import numpy as np # used for working with arrays"
   ]
  },
  {
   "cell_type": "code",
   "execution_count": null,
   "id": "6b0c70d4",
   "metadata": {},
   "outputs": [],
   "source": [
    "#Load face cascade and eye cascade from haarcascades folder\n",
    "face_cascade = cv.CascadeClassifier(\"C:\\\\Users\\\\Admin\\\\Desktop\\\\DriverDrowsiness\\\\haarcascades\\\\haarcascade_frontalface_default.xml\")\n",
    "eye_cascade = cv.CascadeClassifier(\"C:\\\\Users\\\\Admin\\\\Desktop\\\\DriverDrowsiness\\\\haarcascades\\\\haarcascade_eye.xml\")"
   ]
  },
  {
   "cell_type": "code",
   "execution_count": null,
   "id": "c9224a07",
   "metadata": {},
   "outputs": [],
   "source": [
    "#Read image in img and convert it to grayscale and store in gray.\n",
    "#Image is converted to grayscale, as face cascade doesn't require to operate on coloured images.\n",
    "img = cv.imread('C:\\\\Users\\\\Admin\\\\Desktop\\\\DriverDrowsiness\\\\images\\\\test.jpeg')\n",
    "gray = cv.cvtColor(img, cv.COLOR_BGR2GRAY)"
   ]
  },
  {
   "cell_type": "code",
   "execution_count": null,
   "id": "611aadf3",
   "metadata": {},
   "outputs": [],
   "source": [
    "#Detect all faces in image.\n",
    "faces = face_cascade.detectMultiScale(gray, 1.3, 5)"
   ]
  },
  {
   "cell_type": "code",
   "execution_count": null,
   "id": "778a88a2",
   "metadata": {},
   "outputs": [],
   "source": [
    "#Draw a rectangle over the face, and detect eyes in faces\n",
    "for (x,y,w,h) in faces:\n",
    "    cv.rectangle(img,(x,y),(x+w,y+h),(255,0,0),2)"
   ]
  },
  {
   "cell_type": "code",
   "execution_count": null,
   "id": "c1705a31",
   "metadata": {},
   "outputs": [],
   "source": [
    "#ROI is region of interest with area having face inside it.\n",
    "roi_gray = gray[y:y+h, x:x+w]\n",
    "roi_color = img[y:y+h, x:x+w]\n",
    "\n",
    "#Detect eyes in face\n",
    "eyes = eye_cascade.detectMultiScale(roi_gray)"
   ]
  },
  {
   "cell_type": "code",
   "execution_count": null,
   "id": "b70560f6",
   "metadata": {},
   "outputs": [],
   "source": [
    " for (ex,ey,ew,eh) in eyes:\n",
    "        cv.rectangle(roi_color,(ex,ey),(ex+ew,ey+eh),(0,255,0),2)"
   ]
  },
  {
   "cell_type": "code",
   "execution_count": null,
   "id": "1e556671",
   "metadata": {},
   "outputs": [],
   "source": [
    "cv.imshow('C:\\\\Users\\\\Admin\\\\Desktop\\\\DriverDrowsiness\\\\images\\\\test.jpeg', img)\n",
    "cv.waitKey(10)"
   ]
  },
  {
   "cell_type": "code",
   "execution_count": null,
   "id": "10281f48",
   "metadata": {},
   "outputs": [],
   "source": [
    "cv.destroyAllWindows()"
   ]
  },
  {
   "cell_type": "code",
   "execution_count": null,
   "id": "42013e48",
   "metadata": {},
   "outputs": [],
   "source": []
  }
 ],
 "metadata": {
  "kernelspec": {
   "display_name": "Python 3 (ipykernel)",
   "language": "python",
   "name": "python3"
  },
  "language_info": {
   "codemirror_mode": {
    "name": "ipython",
    "version": 3
   },
   "file_extension": ".py",
   "mimetype": "text/x-python",
   "name": "python",
   "nbconvert_exporter": "python",
   "pygments_lexer": "ipython3",
   "version": "3.12.1"
  }
 },
 "nbformat": 4,
 "nbformat_minor": 5
}
